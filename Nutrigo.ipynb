{
 "cells": [
  {
   "cell_type": "code",
   "execution_count": 1,
   "id": "9a187853",
   "metadata": {},
   "outputs": [
    {
     "name": "stdout",
     "output_type": "stream",
     "text": [
      "   recipe_id                              recipe_name  \\\n",
      "0     240488        Pork Loin, Apples, and Sauerkraut   \n",
      "1     218939         Foolproof Rosemary Chicken Wings   \n",
      "2      87211                    Chicken Pesto Paninis   \n",
      "3     245714                       Potato Bacon Pizza   \n",
      "4     218545  Latin-Inspired Spicy Cream Chicken Stew   \n",
      "\n",
      "                                           image_url  \\\n",
      "0  https://images.media-allrecipes.com/userphotos...   \n",
      "1  https://images.media-allrecipes.com/userphotos...   \n",
      "2  https://images.media-allrecipes.com/userphotos...   \n",
      "3  https://images.media-allrecipes.com/userphotos...   \n",
      "4  https://images.media-allrecipes.com/userphotos...   \n",
      "\n",
      "                                         ingredients  \\\n",
      "0  sauerkraut drained^Granny Smith apples sliced^...   \n",
      "1  chicken wings^sprigs rosemary^head garlic^oliv...   \n",
      "2  focaccia bread quartered^prepared basil pesto^...   \n",
      "3  red potatoes^strips bacon^Sauce:^heavy whippin...   \n",
      "4  skinless boneless chicken breast halves^diced ...   \n",
      "\n",
      "                                  cooking_directions  \\\n",
      "0  {'directions': u'Prep\\n15 m\\nCook\\n2 h 30 m\\nR...   \n",
      "1  {'directions': u\"Prep\\n20 m\\nCook\\n40 m\\nReady...   \n",
      "2  {'directions': u'Prep\\n15 m\\nCook\\n5 m\\nReady ...   \n",
      "3  {'directions': u'Prep\\n20 m\\nCook\\n45 m\\nReady...   \n",
      "4  {'directions': u'Prep\\n10 m\\nCook\\n8 h 15 m\\nR...   \n",
      "\n",
      "                                          nutritions  \n",
      "0  {u'niacin': {u'hasCompleteData': False, u'name...  \n",
      "1  {u'niacin': {u'hasCompleteData': True, u'name'...  \n",
      "2  {u'niacin': {u'hasCompleteData': True, u'name'...  \n",
      "3  {u'niacin': {u'hasCompleteData': True, u'name'...  \n",
      "4  {u'niacin': {u'hasCompleteData': False, u'name...  \n",
      "   user_id  recipe_id  rating           dateLastModified\n",
      "0  5215572      17991       5   2010-08-25T14:38:53.84\\n\n",
      "1  5215572     170724       4  2010-09-09T14:04:45.733\\n\n",
      "2  5215572      18045       5  2010-08-16T14:51:25.833\\n\n",
      "3  3622615      60598       4   2009-03-15T12:10:20.85\\n\n",
      "4  1313770      47519       5  2005-10-04T15:43:36.653\\n\n",
      "   user_id  recipe_id  rating           dateLastModified\n",
      "0  1313770      13988       5  2012-01-25T09:11:57.003\\n\n",
      "1   880574      67952       4   2012-03-24T05:37:12.64\\n\n",
      "2   880574      85389       5  2012-03-05T18:09:22.573\\n\n",
      "3   880574     218597       4  2012-03-03T10:23:05.127\\n\n",
      "4   880574     143069       3  2012-11-25T06:55:33.463\\n\n",
      "   user_id  recipe_id  rating           dateLastModified\n",
      "0  5215572      55090       5   2015-01-09T18:05:22.95\\n\n",
      "1  5215572      26317       4  2016-12-04T17:50:35.777\\n\n",
      "2  5215572      15125       5  2014-02-12T13:51:37.007\\n\n",
      "3  3622615      26317       5  2013-06-14T17:39:06.547\\n\n",
      "4  1313770      55641       5  2015-06-24T19:07:02.493\\n\n"
     ]
    }
   ],
   "source": [
    "import pandas as pd\n",
    "import zipfile\n",
    "import os\n",
    "import pandas as pd\n",
    "\n",
    "# Load the raw and core data\n",
    "raw_recipes = pd.read_csv ('raw-data_recipe.csv')\n",
    "raw_interactions = pd.read_csv('raw-data_interaction.csv')\n",
    "core_recipes = pd.read_csv('core-data_recipe.csv')\n",
    "core_interactions_train = pd.read_csv('core-data-train_rating.csv')\n",
    "core_interactions_valid = pd.read_csv('core-data-valid_rating.csv')\n",
    "core_interactions_test = pd.read_csv('core-data-test_rating.csv')\n",
    "\n",
    "\n",
    "# Display the first few rows of the datasets\n",
    "print(core_recipes.head())\n",
    "print(core_interactions_train.head())\n",
    "print(core_interactions_valid.head())\n",
    "print(core_interactions_test.head())\n",
    "\n"
   ]
  },
  {
   "cell_type": "code",
   "execution_count": 2,
   "id": "f2d3c470",
   "metadata": {},
   "outputs": [
    {
     "name": "stdout",
     "output_type": "stream",
     "text": [
      "Index(['recipe_id', 'recipe_name', 'image_url', 'ingredients',\n",
      "       'cooking_directions', 'nutritions'],\n",
      "      dtype='object')\n",
      "'category' column does not exist in core_recipes\n",
      "No numerical features found in core_recipes\n"
     ]
    }
   ],
   "source": [
    "print(core_recipes.columns)\n",
    "\n",
    "# Data Preprocessing\n",
    "# Handle missing values if any\n",
    "core_recipes.fillna('', inplace=True)\n",
    "\n",
    "# If 'category' column exists, encode it\n",
    "if 'category' in core_recipes.columns:\n",
    "    label_encoder = LabelEncoder()\n",
    "    core_recipes['category'] = label_encoder.fit_transform(core_recipes['category'])\n",
    "else:\n",
    "    print(\"'category' column does not exist in core_recipes\")\n",
    "\n",
    "# Normalize numerical features if they exist\n",
    "numerical_features = ['rating', 'review_nums', 'nutrition']\n",
    "existing_numerical_features = [feature for feature in numerical_features if feature in core_recipes.columns]\n",
    "\n",
    "if existing_numerical_features:\n",
    "    scaler = StandardScaler()\n",
    "    core_recipes[existing_numerical_features] = scaler.fit_transform(core_recipes[existing_numerical_features])\n",
    "else:\n",
    "    print(\"No numerical features found in core_recipes\")"
   ]
  },
  {
   "cell_type": "code",
   "execution_count": 3,
   "id": "4f9d88a8",
   "metadata": {},
   "outputs": [],
   "source": [
    "# Feature Engineering\n",
    "# Example of creating a new feature for user preferences\n",
    "user_preferences = core_interactions_train.groupby('user_id')['recipe_id'].apply(list).reset_index()\n",
    "user_preferences.columns = ['user_id', 'preferred_recipes']\n"
   ]
  },
  {
   "cell_type": "code",
   "execution_count": 4,
   "id": "a9e90a9b",
   "metadata": {},
   "outputs": [
    {
     "name": "stdout",
     "output_type": "stream",
     "text": [
      "Requirement already satisfied: implicit in c:\\users\\91877\\anaconda3\\lib\\site-packages (0.7.2)\n",
      "Requirement already satisfied: numpy>=1.17.0 in c:\\users\\91877\\anaconda3\\lib\\site-packages (from implicit) (1.21.0)\n",
      "Requirement already satisfied: threadpoolctl in c:\\users\\91877\\anaconda3\\lib\\site-packages (from implicit) (2.1.0)\n",
      "Requirement already satisfied: scipy>=0.16 in c:\\users\\91877\\anaconda3\\lib\\site-packages (from implicit) (1.6.2)\n",
      "Requirement already satisfied: tqdm>=4.27 in c:\\users\\91877\\anaconda3\\lib\\site-packages (from implicit) (4.59.0)\n"
     ]
    }
   ],
   "source": [
    "!pip install implicit"
   ]
  },
  {
   "cell_type": "code",
   "execution_count": 5,
   "id": "deb296cb",
   "metadata": {},
   "outputs": [
    {
     "name": "stdout",
     "output_type": "stream",
     "text": [
      "Train matrix shape: (19362, 23041)\n",
      "[[5 4 5 0 0]\n",
      " [0 0 0 4 0]\n",
      " [0 0 0 0 5]\n",
      " [0 0 0 0 0]\n",
      " [0 0 0 0 0]]\n"
     ]
    }
   ],
   "source": [
    "import pandas as pd\n",
    "import numpy as np\n",
    "from sklearn.model_selection import train_test_split\n",
    "from sklearn.decomposition import TruncatedSVD\n",
    "from sklearn.metrics import mean_squared_error\n",
    "from scipy.sparse import csr_matrix\n",
    "import matplotlib.pyplot as plt\n",
    "\n",
    "# Load the raw and core data\n",
    "raw_recipes = pd.read_csv('raw-data_recipe.csv')\n",
    "raw_interactions = pd.read_csv('raw-data_interaction.csv')\n",
    "core_recipes = pd.read_csv('core-data_recipe.csv')\n",
    "core_interactions_train = pd.read_csv('core-data-train_rating.csv')\n",
    "core_interactions_valid = pd.read_csv('core-data-valid_rating.csv')\n",
    "core_interactions_test = pd.read_csv('core-data-test_rating.csv')\n",
    "\n",
    "# Create mappings for user and recipe IDs to ensure they are within matrix dimensions\n",
    "user_id_map = {user_id: idx for idx, user_id in enumerate(core_interactions_train['user_id'].unique())}\n",
    "recipe_id_map = {recipe_id: idx for idx, recipe_id in enumerate(core_interactions_train['recipe_id'].unique())}\n",
    "\n",
    "# Map the user and recipe IDs\n",
    "core_interactions_train['user_idx'] = core_interactions_train['user_id'].map(user_id_map)\n",
    "core_interactions_train['recipe_idx'] = core_interactions_train['recipe_id'].map(recipe_id_map)\n",
    "\n",
    "# Get the number of unique users and recipes\n",
    "n_users = len(user_id_map)\n",
    "n_recipes = len(recipe_id_map)\n",
    "\n",
    "# Create a sparse matrix\n",
    "train_matrix = csr_matrix((core_interactions_train['rating'], \n",
    "                           (core_interactions_train['user_idx'], core_interactions_train['recipe_idx'])), \n",
    "                          shape=(n_users, n_recipes))\n",
    "\n",
    "# Verify the shape of the matrix\n",
    "print(f\"Train matrix shape: {train_matrix.shape}\")\n",
    "\n",
    "# Display a portion of the sparse matrix for verification\n",
    "print(train_matrix[:5, :5].todense())\n"
   ]
  },
  {
   "cell_type": "code",
   "execution_count": 9,
   "id": "f5208289",
   "metadata": {
    "scrolled": true
   },
   "outputs": [
    {
     "name": "stdout",
     "output_type": "stream",
     "text": [
      "Top 5 recommendations for user 0: [ 614 2000  972 1340  476]\n"
     ]
    }
   ],
   "source": [
    "# SVD and Recommendations:\n",
    "\n",
    "import pandas as pd\n",
    "import numpy as np\n",
    "from sklearn.decomposition import TruncatedSVD\n",
    "from sklearn.metrics import mean_squared_error\n",
    "from scipy.sparse import csr_matrix\n",
    "import matplotlib.pyplot as plt\n",
    "\n",
    "# Load the raw and core data\n",
    "raw_recipes = pd.read_csv('raw-data_recipe.csv')\n",
    "raw_interactions = pd.read_csv('raw-data_interaction.csv')\n",
    "core_recipes = pd.read_csv('core-data_recipe.csv')\n",
    "core_interactions_train = pd.read_csv('core-data-train_rating.csv')\n",
    "core_interactions_valid = pd.read_csv('core-data-valid_rating.csv')\n",
    "core_interactions_test = pd.read_csv('core-data-test_rating.csv')\n",
    "\n",
    "# Create mappings for user and recipe IDs to ensure they are within matrix dimensions\n",
    "user_id_map = {user_id: idx for idx, user_id in enumerate(core_interactions_train['user_id'].unique())}\n",
    "recipe_id_map = {recipe_id: idx for idx, recipe_id in enumerate(core_interactions_train['recipe_id'].unique())}\n",
    "\n",
    "# Map the user and recipe IDs\n",
    "core_interactions_train['user_idx'] = core_interactions_train['user_id'].map(user_id_map)\n",
    "core_interactions_train['recipe_idx'] = core_interactions_train['recipe_id'].map(recipe_id_map)\n",
    "\n",
    "# Get the number of unique users and recipes\n",
    "n_users = len(user_id_map)\n",
    "n_recipes = len(recipe_id_map)\n",
    "\n",
    "# Create a sparse matrix\n",
    "train_matrix = csr_matrix((core_interactions_train['rating'], \n",
    "                           (core_interactions_train['user_idx'], core_interactions_train['recipe_idx'])), \n",
    "                          shape=(n_users, n_recipes))\n",
    "\n",
    "# Apply TruncatedSVD\n",
    "svd = TruncatedSVD(n_components=50, random_state=42)\n",
    "train_matrix_reduced = svd.fit_transform(train_matrix)\n",
    "\n",
    "# Compute the reconstructed matrix\n",
    "train_matrix_reconstructed = svd.inverse_transform(train_matrix_reduced)\n",
    "\n",
    "# Function to recommend top N recipes for a given user\n",
    "def recommend_recipes(user_idx, train_matrix_reconstructed, n_recommendations=5):\n",
    "    # Get the user's ratings from the reconstructed matrix\n",
    "    user_ratings = train_matrix_reconstructed[user_idx]\n",
    "    \n",
    "    # Get the indices of the top N recommended recipes\n",
    "    recommended_indices = np.argsort(user_ratings)[::-1][:n_recommendations]\n",
    "    \n",
    "    return recommended_indices\n",
    "\n",
    "# Example: Recommend top 5 recipes for the first user\n",
    "user_idx = 0\n",
    "recommendations = recommend_recipes(user_idx, train_matrix_reconstructed, n_recommendations=5)\n",
    "print(f\"Top 5 recommendations for user {user_idx}: {recommendations}\")\n"
   ]
  },
  {
   "cell_type": "code",
   "execution_count": 10,
   "id": "0be74015",
   "metadata": {},
   "outputs": [
    {
     "name": "stdout",
     "output_type": "stream",
     "text": [
      "Validation RMSE: 4.554619335959658\n",
      "Test RMSE: 4.574534306956035\n"
     ]
    }
   ],
   "source": [
    "# Evaluation :\n",
    "\n",
    "# Map validation and test interactions to the matrix indices\n",
    "core_interactions_valid['user_idx'] = core_interactions_valid['user_id'].map(user_id_map)\n",
    "core_interactions_valid['recipe_idx'] = core_interactions_valid['recipe_id'].map(recipe_id_map)\n",
    "\n",
    "core_interactions_test['user_idx'] = core_interactions_test['user_id'].map(user_id_map)\n",
    "core_interactions_test['recipe_idx'] = core_interactions_test['recipe_id'].map(recipe_id_map)\n",
    "\n",
    "# Ensure indices are valid integers\n",
    "core_interactions_valid = core_interactions_valid.dropna(subset=['user_idx', 'recipe_idx'])\n",
    "core_interactions_valid['user_idx'] = core_interactions_valid['user_idx'].astype(int)\n",
    "core_interactions_valid['recipe_idx'] = core_interactions_valid['recipe_idx'].astype(int)\n",
    "\n",
    "core_interactions_test = core_interactions_test.dropna(subset=['user_idx', 'recipe_idx'])\n",
    "core_interactions_test['user_idx'] = core_interactions_test['user_idx'].astype(int)\n",
    "core_interactions_test['recipe_idx'] = core_interactions_test['recipe_idx'].astype(int)\n",
    "\n",
    "# Function to get the predicted rating for a specific user and recipe\n",
    "def get_predicted_rating(user_idx, recipe_idx, train_matrix_reconstructed):\n",
    "    return train_matrix_reconstructed[user_idx, recipe_idx]\n",
    "\n",
    "# Evaluate on validation set\n",
    "valid_predictions = []\n",
    "valid_actuals = []\n",
    "\n",
    "for _, row in core_interactions_valid.iterrows():\n",
    "    user_idx = row['user_idx']\n",
    "    recipe_idx = row['recipe_idx']\n",
    "    \n",
    "    predicted_rating = get_predicted_rating(user_idx, recipe_idx, train_matrix_reconstructed)\n",
    "    valid_predictions.append(predicted_rating)\n",
    "    valid_actuals.append(row['rating'])\n",
    "\n",
    "# Calculate RMSE for validation set\n",
    "valid_rmse = np.sqrt(mean_squared_error(valid_actuals, valid_predictions))\n",
    "print(f\"Validation RMSE: {valid_rmse}\")\n",
    "\n",
    "# Evaluate on test set\n",
    "test_predictions = []\n",
    "test_actuals = []\n",
    "\n",
    "for _, row in core_interactions_test.iterrows():\n",
    "    user_idx = row['user_idx']\n",
    "    recipe_idx = row['recipe_idx']\n",
    "    \n",
    "    predicted_rating = get_predicted_rating(user_idx, recipe_idx, train_matrix_reconstructed)\n",
    "    test_predictions.append(predicted_rating)\n",
    "    test_actuals.append(row['rating'])\n",
    "\n",
    "# Calculate RMSE for test set\n",
    "test_rmse = np.sqrt(mean_squared_error(test_actuals, test_predictions))\n",
    "print(f\"Test RMSE: {test_rmse}\")\n"
   ]
  },
  {
   "cell_type": "code",
   "execution_count": null,
   "id": "0448a32d",
   "metadata": {},
   "outputs": [],
   "source": []
  }
 ],
 "metadata": {
  "kernelspec": {
   "display_name": "Python 3",
   "language": "python",
   "name": "python3"
  },
  "language_info": {
   "codemirror_mode": {
    "name": "ipython",
    "version": 3
   },
   "file_extension": ".py",
   "mimetype": "text/x-python",
   "name": "python",
   "nbconvert_exporter": "python",
   "pygments_lexer": "ipython3",
   "version": "3.8.8"
  }
 },
 "nbformat": 4,
 "nbformat_minor": 5
}
